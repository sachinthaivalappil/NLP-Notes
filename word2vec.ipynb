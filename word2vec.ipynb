{
 "cells": [
  {
   "cell_type": "code",
   "execution_count": 1,
   "metadata": {},
   "outputs": [
    {
     "name": "stdout",
     "output_type": "stream",
     "text": [
      "Requirement already satisfied: nltk in f:\\anaconda3\\lib\\site-packages (3.7)\n",
      "Requirement already satisfied: joblib in f:\\anaconda3\\lib\\site-packages (from nltk) (1.1.0)\n",
      "Requirement already satisfied: tqdm in f:\\anaconda3\\lib\\site-packages (from nltk) (4.64.0)\n",
      "Requirement already satisfied: regex>=2021.8.3 in f:\\anaconda3\\lib\\site-packages (from nltk) (2022.3.15)\n",
      "Requirement already satisfied: click in f:\\anaconda3\\lib\\site-packages (from nltk) (8.0.4)\n",
      "Requirement already satisfied: colorama in f:\\anaconda3\\lib\\site-packages (from click->nltk) (0.4.4)\n"
     ]
    }
   ],
   "source": [
    "!pip install nltk"
   ]
  },
  {
   "cell_type": "code",
   "execution_count": null,
   "metadata": {},
   "outputs": [],
   "source": [
    "paragraph=\"The 2024 United States presidential election was the 60th quadrennial presidential election held on Tuesday November 5 2024 The Republican Partys ticket—Donald Trump who was the 45th president of the United States from 2017 to 2021 and JD Vance the junior US senator from Ohio—defeated the Democratic Partys ticket—Kamala Harris the incumbent US vice president and Tim Walz the governor of Minnesota Trump and Vance are scheduled to be inaugurated as the 47th president and the 50th vice president on January 20 2025 after their formal election by the Electoral College The incumbent president Joe Biden of the Democratic Party initially ran for reelection with Harris and they became the partys presumptive nominees facing little opposition however what was generally considered to be a poor presidential debate performance in June 2024 intensified concerns about his age and health and led to calls within his party for him to leave the race Although initially adamant about remaining in the race Biden withdrew on July 21 becoming the first eligible incumbent president to withdraw since Lyndon B Johnson in 1968 Biden endorsed Vice President Kamala Harris who was voted the party nominee by the delegates on August 5 2024 Harris selected Walz as her running mate\""
   ]
  }
 ],
 "metadata": {
  "kernelspec": {
   "display_name": "base",
   "language": "python",
   "name": "python3"
  },
  "language_info": {
   "codemirror_mode": {
    "name": "ipython",
    "version": 3
   },
   "file_extension": ".py",
   "mimetype": "text/x-python",
   "name": "python",
   "nbconvert_exporter": "python",
   "pygments_lexer": "ipython3",
   "version": "3.9.12"
  }
 },
 "nbformat": 4,
 "nbformat_minor": 2
}
